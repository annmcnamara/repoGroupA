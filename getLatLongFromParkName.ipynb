{
 "cells": [
  {
   "cell_type": "code",
   "execution_count": 10,
   "metadata": {},
   "outputs": [
    {
     "name": "stdout",
     "output_type": "stream",
     "text": [
      "Denali National Park & Preserve can be found at lat:63.29777484, long:-151.0526568.\n"
     ]
    }
   ],
   "source": [
    "import requests, json\n",
    "\n",
    "# Configure API request\n",
    "#park = \"acad\"\n",
    "#park = \"cowp\"\n",
    "park = \"DENA\"\n",
    "url = f\"https://developer.nps.gov/api/v1/parks?parkCode={park}&api_key=Qwd3DoPFGV2nv2BES0QFX46YPNbsW6dgJYSXg5oD\"\n",
    "\n",
    "data = requests.get(url).json()\n",
    "\n",
    "# Prepare and execute output\n",
    "print(data[\"data\"][0][\"fullName\"] + \" can be found at \" + data[\"data\"][0][\"latLong\"] + \".\")"
   ]
  },
  {
   "cell_type": "code",
   "execution_count": null,
   "metadata": {},
   "outputs": [],
   "source": []
  }
 ],
 "metadata": {
  "kernelspec": {
   "display_name": "Python 3",
   "language": "python",
   "name": "python3"
  },
  "language_info": {
   "codemirror_mode": {
    "name": "ipython",
    "version": 3
   },
   "file_extension": ".py",
   "mimetype": "text/x-python",
   "name": "python",
   "nbconvert_exporter": "python",
   "pygments_lexer": "ipython3",
   "version": "3.7.6"
  }
 },
 "nbformat": 4,
 "nbformat_minor": 4
}
