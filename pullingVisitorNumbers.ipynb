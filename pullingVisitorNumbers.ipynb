{
 "cells": [
  {
   "cell_type": "markdown",
   "metadata": {},
   "source": [
    "## Making a JSON request for visitor data"
   ]
  },
  {
   "cell_type": "code",
   "execution_count": null,
   "metadata": {},
   "outputs": [],
   "source": [
    "# The JSON WAY\n",
    "\n",
    "unitcode = \"ROMO\" #Rocky Mountain National Park (unitcode)\n",
    "URL = f'https://irmaservices.nps.gov/v3/rest/stats/visitation?unitCodes={unitcode}&startMonth=01&startYear=2019&endMonth=12&endYear=2019&format=json'\n",
    "\n",
    "response = requests.get(URL).json()\n",
    "\n",
    "#print(response)\n",
    "\n",
    "len(response)\n",
    "months = ['January', 'February', 'March', 'April', 'May', 'June', 'July' 'August', 'September', 'October', 'November', 'December'] \n",
    "for month in range(0,len(response)-1):\n",
    "    print(f\"{unitcode} National Park had {response[month]['RecreationVisitors']} visitors\" +\n",
    "          f\" in the month of {months[month]} in 2019\")\n"
   ]
  },
  {
   "cell_type": "markdown",
   "metadata": {},
   "source": [
    "## Parsing an XML Frame"
   ]
  },
  {
   "cell_type": "code",
   "execution_count": 13,
   "metadata": {},
   "outputs": [
    {
     "name": "stdout",
     "output_type": "stream",
     "text": [
      "issuing request for data...\n",
      "reponse received data\n",
      "ROMO National Park had 118152 in the month of January in 2019\n",
      "ROMO National Park had 99873 in the month of February in 2019\n",
      "ROMO National Park had 146414 in the month of March in 2019\n",
      "ROMO National Park had 160259 in the month of April in 2019\n",
      "ROMO National Park had 280351 in the month of May in 2019\n",
      "ROMO National Park had 698224 in the month of June in 2019\n",
      "ROMO National Park had 973992 in the month of JulyAugust in 2019\n",
      "ROMO National Park had 830039 in the month of September in 2019\n",
      "ROMO National Park had 752320 in the month of October in 2019\n",
      "ROMO National Park had 374003 in the month of November in 2019\n",
      "ROMO National Park had 123376 in the month of December in 2019\n"
     ]
    }
   ],
   "source": [
    "#THE HARD WAY \n",
    "#safe to ignore but keep in case we need to parse xml in future\n",
    "\n",
    "import xmltodict\n",
    "import requests\n",
    "\n",
    "#URL = \"https://irmaservices.nps.gov/v2/rest/unit/states\"\n",
    "#Get data for one year\n",
    "unitcode = \"ROMO\" #Rocky Mountain National Park (unitcode)\n",
    "URL = f'https://irmaservices.nps.gov/v3/rest/stats/visitation?unitCodes={unitcode}&startMonth=01&startYear=2019&endMonth=12&endYear=2019'\n",
    "\n",
    "print(\"issuing request for data...\")\n",
    "response = requests.get(URL)\n",
    "print(\"reponse received data\")\n",
    "\n",
    "#write it to a file\n",
    "with open('feed.xml', 'wb') as file:\n",
    "    file.write(response.content)\n",
    "file.close()\n",
    "\n",
    "#parse it into a dict\n",
    "with open('feed.xml') as fd:\n",
    "    responseDict = xmltodict.parse(fd.read())\n",
    "    \n",
    "months = ['January', 'February', 'March', 'April', 'May', 'June', 'July' 'August', 'September', 'October', 'November', 'December'] \n",
    "response_length = len(responseDict['ArrayOfVisitationData']['VisitationData'])\n",
    "for month in range(0,response_length-1):\n",
    "    print(f\"ROMO National Park had {responseDict['ArrayOfVisitationData']['VisitationData'][month]['RecreationVisitors']}\" +\n",
    "          f\" in the month of {months[month]} in 2019\")"
   ]
  },
  {
   "cell_type": "code",
   "execution_count": 3,
   "metadata": {},
   "outputs": [],
   "source": [
    "\n",
    "    "
   ]
  },
  {
   "cell_type": "code",
   "execution_count": null,
   "metadata": {},
   "outputs": [],
   "source": []
  }
 ],
 "metadata": {
  "kernelspec": {
   "display_name": "Python 3",
   "language": "python",
   "name": "python3"
  },
  "language_info": {
   "codemirror_mode": {
    "name": "ipython",
    "version": 3
   },
   "file_extension": ".py",
   "mimetype": "text/x-python",
   "name": "python",
   "nbconvert_exporter": "python",
   "pygments_lexer": "ipython3",
   "version": "3.7.6"
  }
 },
 "nbformat": 4,
 "nbformat_minor": 4
}
